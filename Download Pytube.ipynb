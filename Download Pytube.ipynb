{
 "cells": [
  {
   "cell_type": "code",
   "execution_count": 1,
   "metadata": {},
   "outputs": [],
   "source": [
    "from pytube import YouTube\n",
    "from pytube import Playlist"
   ]
  },
  {
   "cell_type": "code",
   "execution_count": 2,
   "metadata": {},
   "outputs": [
    {
     "name": "stdout",
     "output_type": "stream",
     "text": [
      "Executando programa\n",
      "Terminado com sucesso!\n"
     ]
    }
   ],
   "source": [
    "# Download mp3 playlist\n",
    "\n",
    "def baixar_playlist_mp3(mp3_link):\n",
    "    mp3s = Playlist(mp3_link)\n",
    "    for mp3 in mp3s:\n",
    "        extrair = YouTube(mp3)\n",
    "        baixar = extrair.streams.get_audio_only()\n",
    "        baixar.download()\n",
    "\n",
    "try:\n",
    "    baixar_playlist_mp3('https://www.youtube.com/playlist?list=PL5LaOD9b1OVf8MEZpa1kFxPLZzdudgcXo')\n",
    "    print('Executando programa')\n",
    "    print('Terminado com sucesso!')\n",
    "\n",
    "except ValueError:\n",
    "    print('Algo deu errado!')"
   ]
  },
  {
   "cell_type": "code",
   "execution_count": null,
   "metadata": {},
   "outputs": [],
   "source": [
    "# Download video playlist\n",
    "\n",
    "def baixar_playlist_video(video_link):\n",
    "    videos = Playlist(video_link)\n",
    "    for video in videos:\n",
    "        extrair = YouTube(video)\n",
    "        # Para baixar na menor resolução => .get_lowest_resolution()\n",
    "        baixar = extrair.streams.get_highest_resolution()\n",
    "        baixar.download()\n",
    "\n",
    "try:\n",
    "    baixar_playlist_video('-----COLOCAR LINK AQUI-----')\n",
    "    print('Executando programa')\n",
    "    print('Terminado com sucesso!')\n",
    "    \n",
    "except ValueError:\n",
    "    print('Algo deu errado!')"
   ]
  },
  {
   "cell_type": "code",
   "execution_count": null,
   "metadata": {},
   "outputs": [],
   "source": [
    "# Download mp3 único\n",
    "\n",
    "def baixar_mp3(mp3_link):\n",
    "    extrair = YouTube(mp3_link)\n",
    "    baixar = extrair.streams.get_audio_only()\n",
    "    baixar.download()\n",
    "\n",
    "try:\n",
    "    baixar_mp3('-----COLOCAR LINK AQUI-----')\n",
    "    print('Executando programa')\n",
    "    print('Terminado com sucesso!')\n",
    "\n",
    "except ValueError:\n",
    "    print('Algo deu errado!')"
   ]
  },
  {
   "cell_type": "code",
   "execution_count": 4,
   "metadata": {},
   "outputs": [
    {
     "name": "stdout",
     "output_type": "stream",
     "text": [
      "Executando programa\n",
      "Terminado com sucesso\n"
     ]
    }
   ],
   "source": [
    "# Download vídeo único\n",
    "\n",
    "def baixar_video(video_link):\n",
    "    extrair = YouTube(video_link)\n",
    "    # Para baixar na menor resolução => .get_lowest_resolution()\n",
    "    baixar = extrair.streams.get_highest_resolution()\n",
    "    baixar.download()\n",
    "\n",
    "try:\n",
    "    baixar_video('-----COLOCAR LINK AQUI-----')\n",
    "    print('Executando programa')\n",
    "    print('Terminado com sucesso!')\n",
    "\n",
    "except ValueError:\n",
    "    print('Algo deu errado!')\n"
   ]
  }
 ],
 "metadata": {
  "kernelspec": {
   "display_name": "Python 3.10.4 64-bit",
   "language": "python",
   "name": "python3"
  },
  "language_info": {
   "codemirror_mode": {
    "name": "ipython",
    "version": 3
   },
   "file_extension": ".py",
   "mimetype": "text/x-python",
   "name": "python",
   "nbconvert_exporter": "python",
   "pygments_lexer": "ipython3",
   "version": "3.10.7"
  },
  "orig_nbformat": 4,
  "vscode": {
   "interpreter": {
    "hash": "efb7a97d474e1365eb3cc1499572f8bbefdf3cf8bd59fd2202ae78240eb011e1"
   }
  }
 },
 "nbformat": 4,
 "nbformat_minor": 2
}
